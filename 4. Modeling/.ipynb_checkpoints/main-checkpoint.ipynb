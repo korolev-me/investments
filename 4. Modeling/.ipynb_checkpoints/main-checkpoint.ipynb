{
 "cells": [
  {
   "cell_type": "code",
   "execution_count": null,
   "metadata": {
    "collapsed": false
   },
   "outputs": [],
   "source": [
    "from importlib import reload\n",
    "import datetime\n",
    "\n",
    "import numpy as np\n",
    "import pandas as pd\n",
    "import matplotlib.pyplot as plt\n",
    "import seaborn as sns\n",
    "\n",
    "import environment as en\n",
    "import agent as ag\n",
    "import superviser as sv\n",
    "\n",
    "%matplotlib inline"
   ]
  },
  {
   "cell_type": "markdown",
   "metadata": {},
   "source": [
    "# 1.\tПолучение данных"
   ]
  },
  {
   "cell_type": "code",
   "execution_count": null,
   "metadata": {
    "collapsed": true
   },
   "outputs": [],
   "source": [
    "type_insrt = 'pamm'#'pif'\n",
    "\n",
    "# Количество рабочих дней (строк в БД) в периоде (году)\n",
    "year_days = 260\n",
    "\n",
    "# Минимальное количество рабочих дней, для которых возможно посчитать доходность за минимальный период\n",
    "min_hist_days = 260 # 124\n",
    "\n",
    "# Минимальный период расчёта рентабельности для последующего перевода в годовую рентабельность\n",
    "min_rent_days = 260 # 124"
   ]
  },
  {
   "cell_type": "code",
   "execution_count": null,
   "metadata": {
    "collapsed": false
   },
   "outputs": [],
   "source": [
    "reload(en)\n",
    "envir = en.Environment(date_start = pd.to_datetime('2009-04-01'), cash_start = 1000000, type_insrt = type_insrt)"
   ]
  },
  {
   "cell_type": "code",
   "execution_count": null,
   "metadata": {
    "collapsed": false
   },
   "outputs": [],
   "source": [
    "reload(ag)\n",
    "agent = ag.Agent(envir)"
   ]
  },
  {
   "cell_type": "code",
   "execution_count": null,
   "metadata": {
    "collapsed": true
   },
   "outputs": [],
   "source": [
    "reload(sv)\n",
    "suvis = sv.Superviser(envir, agent, type_insrt = type_insrt)"
   ]
  },
  {
   "cell_type": "code",
   "execution_count": null,
   "metadata": {
    "collapsed": false,
    "scrolled": false
   },
   "outputs": [],
   "source": [
    "result_df = pd.DataFrame(columns=['date_start', 'top_thres', 'pow_st_dev', 'den_pow', 'port_summ_value'])\n",
    "metadata_df = pd.DataFrame(columns=['parameter', 'value'])\n",
    "\n",
    "metadata_df = metadata_df.append({'parameter': 'selection method', 'value': 'top'}, ignore_index = True)\n",
    "metadata_df = metadata_df.append({'parameter': 'bet_thres^pow', 'value': '1'}, ignore_index = True)\n",
    "\n",
    "for year in range(2016, 2017): #2009, 2015\n",
    "    date_start = pd.to_datetime(str(year) + '-04-01')\n",
    "    date_finish = pd.to_datetime(str(year + 1) + '-04-01')\n",
    "    #for min_thres in np.arange(1.10, 1.20, 0.01):\n",
    "    for top_thres in np.arange(2, 3, 1):\n",
    "        for pow_st_dev in np.arange(1, 1.2, 0.2):\n",
    "            for den_pow in [496]: # 124, 248, \n",
    "                print ('\\r','date_start: ', str(year) + '-04-01', 'top_thres: ' , top_thres, ' pow_st_dev: ', pow_st_dev, 'den_pow: ', den_pow, end ='') #, min_thres, 'pow_st_dev: '\n",
    "                #suvis.action()\n",
    "                envir.start(date_start = date_start, \n",
    "                            date_finish = date_finish)\n",
    "                agent.start(top_thres = top_thres, \n",
    "                            pow_st_dev = pow_st_dev, \n",
    "                            den_pow = den_pow, \n",
    "                            year_days = year_days,\n",
    "                            min_hist_days = min_hist_days,\n",
    "                            min_rent_days = min_rent_days) #, min_thres = min_thres\n",
    "                agent.action()\n",
    "                #print ('\\nИТОГО: ', \"{:.0f}\".format(agent.port_summ_value))\n",
    "\n",
    "                result_df = result_df.append({'date_start': date_start, 'top_thres': top_thres, 'pow_st_dev': pow_st_dev, 'den_pow': den_pow, 'port_summ_value': agent.port_summ_value}, ignore_index = True) #, 'min_thres': min_thres\n",
    "            \n",
    "# Сохранение истории поиска по сетке\n",
    "writer = pd.ExcelWriter('..\\\\5. Evaluation\\\\' + type_insrt + '\\\\result_grid_search.xlsx')\n",
    "metadata_df.to_excel(writer, 'metadata', header = False, index = False)\n",
    "result_df.to_excel(writer, 'data')\n",
    "writer.save()\n",
    "\n",
    "writer = pd.ExcelWriter('..\\\\5. Evaluation\\\\' + type_insrt + '\\\\result_grid_search ' + datetime.datetime.now().strftime(\"%Y-%m-%d %H.%M.%S\") + '.xlsx')\n",
    "metadata_df.to_excel(writer, 'metadata', header = False, index = False)\n",
    "result_df.to_excel(writer, 'data')\n",
    "writer.save()"
   ]
  },
  {
   "cell_type": "markdown",
   "metadata": {},
   "source": [
    "# 2.\tПредобработка данных"
   ]
  },
  {
   "cell_type": "markdown",
   "metadata": {},
   "source": [
    "# 3. Анализ данных"
   ]
  },
  {
   "cell_type": "markdown",
   "metadata": {},
   "source": [
    "# 5. Evaluation"
   ]
  },
  {
   "cell_type": "markdown",
   "metadata": {},
   "source": [
    "# 6. Deployment"
   ]
  }
 ],
 "metadata": {
  "anaconda-cloud": {},
  "kernelspec": {
   "display_name": "Python [default]",
   "language": "python",
   "name": "python3"
  },
  "language_info": {
   "codemirror_mode": {
    "name": "ipython",
    "version": 3
   },
   "file_extension": ".py",
   "mimetype": "text/x-python",
   "name": "python",
   "nbconvert_exporter": "python",
   "pygments_lexer": "ipython3",
   "version": "3.5.2"
  }
 },
 "nbformat": 4,
 "nbformat_minor": 1
}
