{
 "cells": [
  {
   "cell_type": "code",
   "execution_count": 1,
   "metadata": {
    "collapsed": false
   },
   "outputs": [],
   "source": [
    "%matplotlib inline\n",
    "import numpy as np\n",
    "import matplotlib.pyplot as plt\n",
    "import cvxopt as opt\n",
    "from cvxopt import blas, solvers\n",
    "import pandas as pd\n",
    "\n",
    "# Turn off progress printing \n",
    "solvers.options['show_progress'] = False"
   ]
  },
  {
   "cell_type": "code",
   "execution_count": 2,
   "metadata": {
    "collapsed": true
   },
   "outputs": [],
   "source": [
    "from importlib import reload\n",
    "import datetime\n",
    "\n",
    "import numpy as np\n",
    "import pandas as pd\n",
    "import matplotlib.pyplot as plt\n",
    "import seaborn as sns\n",
    "\n",
    "import environment as en\n",
    "import agent as ag\n",
    "import superviser as sv\n",
    "\n",
    "%matplotlib inline\n",
    "\n",
    "type_insrt = 'pamm'#'pif'\n",
    "\n",
    "# Количество рабочих дней (строк в БД) в периоде (году)\n",
    "year_days = 260\n",
    "\n",
    "# Минимальное количество рабочих дней, для которых возможно посчитать доходность за минимальный период\n",
    "min_hist_days = 260 # 124\n",
    "\n",
    "# Минимальный период расчёта рентабельности для последующего перевода в годовую рентабельность\n",
    "min_rent_days = 260 # 124\n",
    "\n",
    "\n",
    "reload(en)\n",
    "envir = en.Environment(date_start = pd.to_datetime('2012-06-01'), cash_start = 1000000, type_insrt = type_insrt, file_extension = 'xls')"
   ]
  },
  {
   "cell_type": "code",
   "execution_count": 3,
   "metadata": {
    "collapsed": false
   },
   "outputs": [],
   "source": [
    "envir.start(date_start = pd.to_datetime(str(2017) + '-06-01'), \n",
    "            date_finish = pd.to_datetime(str(2017) + '-06-01'))"
   ]
  },
  {
   "cell_type": "code",
   "execution_count": 4,
   "metadata": {
    "collapsed": false
   },
   "outputs": [],
   "source": [
    "return_vec_df = pd.DataFrame()\n",
    "\n",
    "for index in envir.spr_df.index:\n",
    "\n",
    "        # Получение спарвочной информации по ПИФу с полями: insrt_id, manager, insrt, min_sum, surcharge, discount\n",
    "        spr_se = envir.spr_df.loc[index] \n",
    "\n",
    "        # Получение истории цен ПИФа отсортированной по дате\n",
    "        price_hist_temp_df = envir.price_hist_df[envir.price_hist_df['insrt_id'] == spr_se['insrt_id']].sort_values(by = 'date', ascending=False).reset_index(drop=True)\n",
    "\n",
    "        # Если история собрана менее чем за 2 года, то не рассматривать инвестицию\n",
    "        if ((np.timedelta64(price_hist_temp_df['date'].max() - price_hist_temp_df['date'].min()).astype('timedelta64[Y]').item()) < (min_hist_days + min_rent_days)/year_days) | (price_hist_temp_df.shape[0] < (min_hist_days + min_rent_days)):\n",
    "            continue\n",
    "            \n",
    "        # Непосредственный рассчёт показателей\n",
    "        price_hist_prev_df = price_hist_temp_df[1:] #year_days\n",
    "        price_hist_prev_df.index = price_hist_temp_df.index[:-1] #year_days\n",
    "        price_hist_temp_df = pd.merge(price_hist_temp_df, price_hist_prev_df[['date', 'price']], left_index = True, right_index=True, suffixes=('', '_prev'))\n",
    "\n",
    "        price_hist_temp_df['res'] = price_hist_temp_df['price']/price_hist_temp_df['price_prev']\n",
    "        return_vec_df[spr_se['manager']] = price_hist_temp_df['res'][:min_hist_days]\n"
   ]
  },
  {
   "cell_type": "code",
   "execution_count": 5,
   "metadata": {
    "collapsed": true
   },
   "outputs": [],
   "source": [
    "return_vec=return_vec_df.values.T-1**(1/260)"
   ]
  },
  {
   "cell_type": "raw",
   "metadata": {
    "collapsed": false
   },
   "source": [
    "plt.plot(return_vec.T, alpha=.4);\n",
    "plt.xlabel('time')\n",
    "plt.ylabel('returns')"
   ]
  },
  {
   "cell_type": "raw",
   "metadata": {
    "collapsed": false
   },
   "source": [
    "def rand_weights(n):\n",
    "    ''' Produces n random weights that sum to 1 '''\n",
    "    k = np.random.rand(n)\n",
    "    return k / sum(k)"
   ]
  },
  {
   "cell_type": "raw",
   "metadata": {
    "collapsed": true
   },
   "source": [
    "def random_portfolio(returns):\n",
    "    ''' \n",
    "    Returns the mean and standard deviation of returns for a random portfolio\n",
    "    '''\n",
    "\n",
    "    p = np.asmatrix(np.mean(returns, axis=1))\n",
    "    w = np.asmatrix(rand_weights(returns.shape[0]))\n",
    "    C = np.asmatrix(np.cov(returns))\n",
    "    \n",
    "    mu = w * p.T\n",
    "    sigma = np.sqrt(w * C * w.T)\n",
    "    \n",
    "    # This recursion reduces outliers to keep plots pretty\n",
    "    if sigma > 2:\n",
    "        return random_portfolio(returns)\n",
    "    return mu, sigma"
   ]
  },
  {
   "cell_type": "code",
   "execution_count": 6,
   "metadata": {
    "collapsed": true
   },
   "outputs": [],
   "source": [
    "def portfolio(returns, weights):\n",
    "    ''' \n",
    "    Returns the mean and standard deviation of returns for a portfolio\n",
    "    '''\n",
    "\n",
    "    p = np.asmatrix(np.mean(returns, axis=1))\n",
    "    w = np.asmatrix(weights)\n",
    "    C = np.asmatrix(np.cov(returns))\n",
    "    \n",
    "    mu = w * p.T\n",
    "    sigma = np.sqrt(w * C * w.T)\n",
    "    \n",
    "    return mu, sigma"
   ]
  },
  {
   "cell_type": "raw",
   "metadata": {
    "collapsed": false
   },
   "source": [
    "return_best, risk_best = portfolio(return_vec, weights_best.T[0])\n",
    "print (return_best, risk_best, return_best / risk_best)"
   ]
  },
  {
   "cell_type": "raw",
   "metadata": {
    "collapsed": false
   },
   "source": [
    "n_portfolios = 5000\n",
    "means, stds = np.column_stack([random_portfolio(return_vec) for _ in  iter(range(n_portfolios))])"
   ]
  },
  {
   "cell_type": "code",
   "execution_count": 7,
   "metadata": {
    "collapsed": false
   },
   "outputs": [],
   "source": [
    "def optimal_portfolio(returns):\n",
    "    n = len(returns)\n",
    "    returns = np.asmatrix(returns)\n",
    "    \n",
    "    N = 1000\n",
    "    mus = [100**(5.0 * t/N - 1.0) for t in range(N)]\n",
    "    #print ('mus', mus)\n",
    "    \n",
    "    # Convert to cvxopt matrices\n",
    "    S = opt.matrix(np.cov(returns))\n",
    "    pbar = opt.matrix(np.mean(returns, axis=1))\n",
    "\n",
    "    # Create constraint matrices\n",
    "    G = -opt.matrix(np.eye(n))   # negative n x n identity matrix\n",
    "    h = opt.matrix(0.0, (n ,1))\n",
    "    A = opt.matrix(1.0, (1, n))\n",
    "    b = opt.matrix(1.0)\n",
    "    \n",
    "    # Calculate efficient frontier weights using quadratic programming\n",
    "    portfolios = [solvers.qp(mu*S, -pbar, G, h, A, b)['x'] \n",
    "                  for mu in mus]\n",
    "    \n",
    "    ## CALCULATE RISKS AND RETURNS FOR FRONTIER\n",
    "    returns = [blas.dot(pbar, x) for x in portfolios]\n",
    "    risks = [np.sqrt(blas.dot(x, S*x)) for x in portfolios]\n",
    "    ## CALCULATE THE 2ND DEGREE POLYNOMIAL OF THE FRONTIER CURVE\n",
    "    m1 = np.polyfit(returns, risks, 2)\n",
    "    x1 = np.sqrt(m1[2] / m1[0])\n",
    "    \n",
    "    # CALCULATE THE OPTIMAL PORTFOLIO\n",
    "    wt = solvers.qp(opt.matrix(x1 * S), -pbar, G, h, A, b)['x']\n",
    "    return np.asarray(wt), returns, risks, m1, portfolios\n",
    "\n",
    "weights, returns, risks, polynom, portfolios = optimal_portfolio(return_vec)"
   ]
  },
  {
   "cell_type": "code",
   "execution_count": 8,
   "metadata": {
    "collapsed": false
   },
   "outputs": [
    {
     "name": "stdout",
     "output_type": "stream",
     "text": [
      "number:  322 return:  0.0036390728933267886 risks;  0.0148159228467\n",
      "\n",
      "Cash Flow 2015 [ 0.33791412]\n",
      "Samurayi [ 0.06134235]\n",
      "Lucky Pound [ 0.34855913]\n",
      "Manticore [ 0.00079061]\n",
      "Moriarti  [ 0.07523632]\n",
      "Trustmebaby [ 0.06362546]\n",
      "VDay  [ 0.112532]\n"
     ]
    }
   ],
   "source": [
    "idmax = pd.Series(np.array(returns)/ np.array(risks)).idxmax()\n",
    "print ('number: ', idmax, 'return: ', returns[idmax], 'risks; ', risks[idmax])\n",
    "#print (np.array(portfolios[pd.Series(np.array(returns)/ np.array(risks)).idxmax()]))\n",
    "weights_best = np.array(portfolios[pd.Series(np.array(returns)/ np.array(risks)).idxmax()])\n",
    "print ()\n",
    "for i in range(len(weights_best)):\n",
    "    print (return_vec_df.columns[i], weights_best[i])"
   ]
  },
  {
   "cell_type": "raw",
   "metadata": {},
   "source": [
    "plt.figure(figsize=(16, 10))\n",
    "results_frame = pd.DataFrame(columns=['ret','stdev','sharpe'])\n",
    "results_frame['ret'] = means.T[0]\n",
    "results_frame['stdev'] = stds.T[0]\n",
    "results_frame['sharpe'] = results_frame['ret']/results_frame['stdev']\n",
    "\n",
    "#create scatter plot coloured by Sharpe Ratio\n",
    "plt.scatter(results_frame.stdev,results_frame.ret,c=results_frame.sharpe,cmap='RdYlBu')\n",
    "plt.plot(risks, returns)\n",
    "plt.colorbar()\n",
    "plt.scatter(risks[idmax],returns[idmax],marker=(5,1,0),color='r',s=100)"
   ]
  },
  {
   "cell_type": "raw",
   "metadata": {},
   "source": [
    "plt.scatter(risks, np.array(returns)/ np.array(risks))"
   ]
  },
  {
   "cell_type": "raw",
   "metadata": {},
   "source": [
    "from scipy import optimize\n",
    "\n",
    "def func(x):\n",
    "    return polynom[2]*(x**0) + polynom[1]*(x**1) + polynom[0]*(x**2)\n",
    "def func_sharpe(x):\n",
    "    return -x/(polynom[2]*(x**0) + polynom[1]*(x**1) + polynom[0]*(x**2))\n",
    "\n",
    "x_min = optimize.minimize(func_sharpe, [0])\n",
    "print (x_min['x'][0])\n",
    "asdf = np.arange(0, 2, 0.005)\n",
    "qwe = [func_sharpe(asd) for asd in asdf]\n",
    "plt.scatter(asdf, qwe)"
   ]
  }
 ],
 "metadata": {
  "anaconda-cloud": {},
  "kernelspec": {
   "display_name": "Python [default]",
   "language": "python",
   "name": "python3"
  },
  "language_info": {
   "codemirror_mode": {
    "name": "ipython",
    "version": 3
   },
   "file_extension": ".py",
   "mimetype": "text/x-python",
   "name": "python",
   "nbconvert_exporter": "python",
   "pygments_lexer": "ipython3",
   "version": "3.5.2"
  }
 },
 "nbformat": 4,
 "nbformat_minor": 1
}
