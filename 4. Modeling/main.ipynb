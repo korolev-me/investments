{
 "cells": [
  {
   "cell_type": "code",
   "execution_count": 1,
   "metadata": {
    "collapsed": false
   },
   "outputs": [],
   "source": [
    "from importlib import reload\n",
    "\n",
    "import numpy as np\n",
    "import pandas as pd\n",
    "import matplotlib.pyplot as plt\n",
    "import seaborn as sns\n",
    "\n",
    "import environment as en\n",
    "import agent as ag\n",
    "import superviser as sv\n",
    "\n",
    "%matplotlib inline"
   ]
  },
  {
   "cell_type": "markdown",
   "metadata": {},
   "source": [
    "# 1.\tПолучение данных"
   ]
  },
  {
   "cell_type": "code",
   "execution_count": 2,
   "metadata": {
    "collapsed": false
   },
   "outputs": [],
   "source": [
    "reload(en)\n",
    "envir = en.Environment(date_start = pd.to_datetime('2009-04-01'), cash_start = 1000000)"
   ]
  },
  {
   "cell_type": "code",
   "execution_count": 3,
   "metadata": {
    "collapsed": false
   },
   "outputs": [],
   "source": [
    "reload(ag)\n",
    "agent = ag.Agent(envir)"
   ]
  },
  {
   "cell_type": "code",
   "execution_count": 4,
   "metadata": {
    "collapsed": true
   },
   "outputs": [],
   "source": [
    "reload(sv)\n",
    "suvis = sv.Superviser(envir, agent)"
   ]
  },
  {
   "cell_type": "markdown",
   "metadata": {},
   "source": [
    "<pre>Лучший показатель: 221679 \n",
    "Условия: -stddev**0.5; > 1.2; part = total_2 - 1.2</pre>"
   ]
  },
  {
   "cell_type": "raw",
   "metadata": {
    "collapsed": false,
    "scrolled": false
   },
   "source": [
    "date_start = pd.to_datetime('2007-04-01')\n",
    "date_finish = pd.to_datetime('2017-04-01')\n",
    "min_thres = 1.11\n",
    "pow_st_dev = 1.4\n",
    "den_pow = 124\n",
    "\n",
    "#suvis.action()\n",
    "envir.start(date_start = date_start, date_finish = date_finish)\n",
    "agent.start(min_thres = min_thres, pow_st_dev = pow_st_dev, den_pow = den_pow)\n",
    "agent.action()\n",
    "print ('\\nИТОГО: ', \"{:.0f}\".format(agent.port_summ_value))"
   ]
  },
  {
   "cell_type": "code",
   "execution_count": 5,
   "metadata": {
    "collapsed": false
   },
   "outputs": [
    {
     "name": "stdout",
     "output_type": "stream",
     "text": [
      "\r",
      " New epoch  2009-04-01 top_thres:  1  min_thres:  0.0 den_pow:  124"
     ]
    },
    {
     "name": "stderr",
     "output_type": "stream",
     "text": [
      "C:\\Google_Drive\\Projects\\2. BI\\4. Modeling\\agent.py:288: SettingWithCopyWarning: \n",
      "A value is trying to be set on a copy of a slice from a DataFrame\n",
      "\n",
      "See the caveats in the documentation: http://pandas.pydata.org/pandas-docs/stable/indexing.html#indexing-view-versus-copy\n",
      "  temp_chang_df.loc[row_sell.name]['part_sell'] = 0\n",
      "C:\\Google_Drive\\Projects\\2. BI\\4. Modeling\\agent.py:292: SettingWithCopyWarning: \n",
      "A value is trying to be set on a copy of a slice from a DataFrame\n",
      "\n",
      "See the caveats in the documentation: http://pandas.pydata.org/pandas-docs/stable/indexing.html#indexing-view-versus-copy\n",
      "  temp_chang_df.loc[row_buy.name]['part_buy'] = row_buy['part_buy'] - part_temp\n",
      "C:\\Google_Drive\\Projects\\2. BI\\4. Modeling\\agent.py:295: SettingWithCopyWarning: \n",
      "A value is trying to be set on a copy of a slice from a DataFrame\n",
      "\n",
      "See the caveats in the documentation: http://pandas.pydata.org/pandas-docs/stable/indexing.html#indexing-view-versus-copy\n",
      "  temp_chang_df.loc[row_sell.name]['part_buy'] = 0\n"
     ]
    },
    {
     "name": "stdout",
     "output_type": "stream",
     "text": [
      " New epoch  2014-04-01 top_thres:  9  min_thres:  0.1 den_pow:  496"
     ]
    }
   ],
   "source": [
    "result_df = pd.DataFrame(columns=['date_start', 'top_thres', 'pow_st_dev', 'den_pow', 'port_summ_value'])\n",
    "\n",
    "for year in range(2009, 2015):\n",
    "    date_start = pd.to_datetime(str(year) + '-04-01')\n",
    "    date_finish = pd.to_datetime(str(year+3) + '-04-01')\n",
    "    #for min_thres in np.arange(1.10, 1.20, 0.01):\n",
    "    for top_thres in np.arange(1, 10):\n",
    "        for pow_st_dev in np.arange(0, 0.2, 0.1):\n",
    "            for den_pow in [124, 248, 496]:\n",
    "\n",
    "                print ('\\r','New epoch ', str(year) + '-04-01', 'top_thres: ' , top_thres, ' min_thres: ', pow_st_dev, 'den_pow: ', den_pow, end ='') #, min_thres, 'pow_st_dev: '\n",
    "                #suvis.action()\n",
    "                envir.start(date_start = date_start, date_finish = date_finish)\n",
    "                agent.start(top_thres = top_thres, pow_st_dev = pow_st_dev, den_pow = den_pow) #, min_thres = min_thres\n",
    "                agent.action()\n",
    "                #print ('\\nИТОГО: ', \"{:.0f}\".format(agent.port_summ_value))\n",
    "\n",
    "                result_df = result_df.append({'date_start': date_start, 'top_thres': top_thres, 'pow_st_dev': pow_st_dev, 'den_pow': den_pow, 'port_summ_value': agent.port_summ_value}, ignore_index = True) #, 'min_thres': min_thres\n",
    "            \n",
    "# Сохранение истории поиска по сетке\n",
    "writer = pd.ExcelWriter('..\\\\5. Evaluation\\\\result_grid_search_top_thres.xlsx')\n",
    "result_df.to_excel(writer, 'Данные')\n",
    "writer.save()"
   ]
  },
  {
   "cell_type": "markdown",
   "metadata": {},
   "source": [
    "# 2.\tПредобработка данных"
   ]
  },
  {
   "cell_type": "markdown",
   "metadata": {},
   "source": [
    "# 3. Анализ данных"
   ]
  },
  {
   "cell_type": "markdown",
   "metadata": {},
   "source": [
    "# 5. Evaluation"
   ]
  },
  {
   "cell_type": "markdown",
   "metadata": {},
   "source": [
    "# 6. Deployment"
   ]
  }
 ],
 "metadata": {
  "anaconda-cloud": {},
  "kernelspec": {
   "display_name": "Python [default]",
   "language": "python",
   "name": "python3"
  },
  "language_info": {
   "codemirror_mode": {
    "name": "ipython",
    "version": 3
   },
   "file_extension": ".py",
   "mimetype": "text/x-python",
   "name": "python",
   "nbconvert_exporter": "python",
   "pygments_lexer": "ipython3",
   "version": "3.5.2"
  }
 },
 "nbformat": 4,
 "nbformat_minor": 1
}
