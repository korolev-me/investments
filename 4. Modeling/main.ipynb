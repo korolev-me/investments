{
 "cells": [
  {
   "cell_type": "code",
   "execution_count": 1,
   "metadata": {
    "collapsed": false
   },
   "outputs": [],
   "source": [
    "from importlib import reload\n",
    "import datetime\n",
    "\n",
    "import numpy as np\n",
    "import pandas as pd\n",
    "import matplotlib.pyplot as plt\n",
    "import seaborn as sns\n",
    "\n",
    "import environment as en\n",
    "import agent as ag\n",
    "import superviser as sv\n",
    "\n",
    "%matplotlib inline"
   ]
  },
  {
   "cell_type": "markdown",
   "metadata": {},
   "source": [
    "# 1.\tПолучение данных"
   ]
  },
  {
   "cell_type": "code",
   "execution_count": 2,
   "metadata": {
    "collapsed": true
   },
   "outputs": [],
   "source": [
    "type_insrt = 'pamm'#'pif'\n",
    "\n",
    "# Количество рабочих дней (строк в БД) в периоде (году)\n",
    "year_days = 260\n",
    "\n",
    "# Минимальное количество рабочих дней, для которых возможно посчитать доходность за минимальный период\n",
    "min_hist_days = 260 # 124\n",
    "\n",
    "# Минимальный период расчёта рентабельности для последующего перевода в годовую рентабельность\n",
    "min_rent_days = 260 # 124"
   ]
  },
  {
   "cell_type": "code",
   "execution_count": 3,
   "metadata": {
    "collapsed": false
   },
   "outputs": [],
   "source": [
    "reload(en)\n",
    "envir = en.Environment(date_start = pd.to_datetime('2012-06-01'), cash_start = 1000000, type_insrt = type_insrt, file_extension = 'xls')"
   ]
  },
  {
   "cell_type": "code",
   "execution_count": 4,
   "metadata": {
    "collapsed": false
   },
   "outputs": [],
   "source": [
    "reload(ag)\n",
    "agent = ag.Agent(envir)"
   ]
  },
  {
   "cell_type": "code",
   "execution_count": 5,
   "metadata": {
    "collapsed": true
   },
   "outputs": [],
   "source": [
    "reload(sv)\n",
    "suvis = sv.Superviser(envir, agent, type_insrt = type_insrt)"
   ]
  },
  {
   "cell_type": "code",
   "execution_count": 6,
   "metadata": {
    "collapsed": false,
    "scrolled": false
   },
   "outputs": [
    {
     "name": "stdout",
     "output_type": "stream",
     "text": [
      "\r",
      " date_start:  2017-06-01 top_thres:  4  pow_st_dev:  0.5 den_pow:  260"
     ]
    }
   ],
   "source": [
    "result_df = pd.DataFrame(columns=['date_start', 'top_thres', 'pow_st_dev', 'den_pow', 'port_summ_value'])\n",
    "metadata_df = pd.DataFrame(columns=['parameter', 'value'])\n",
    "\n",
    "metadata_df = metadata_df.append({'parameter': 'selection method', 'value': 'top'}, ignore_index = True)\n",
    "metadata_df = metadata_df.append({'parameter': 'bet_thres^pow', 'value': '1'}, ignore_index = True)\n",
    "\n",
    "for year in range(2017, 2018): #2009, 2015\n",
    "    date_start = pd.to_datetime(str(year) + '-06-01')\n",
    "    date_finish = pd.to_datetime(str(year) + '-06-01') # + 1 \n",
    "    #for min_thres in np.arange(1.10, 1.20, 0.01):\n",
    "    for top_thres in np.arange(4, 5, 1):\n",
    "        for pow_st_dev in np.arange(0.5, 0.6, 0.1):\n",
    "            for den_pow in [260]: #     124, 248, 496\n",
    "                print ('\\r','date_start: ', str(year) + '-06-01', 'top_thres: ' , top_thres, ' pow_st_dev: ', pow_st_dev, 'den_pow: ', den_pow, end ='') #, min_thres, 'pow_st_dev: '\n",
    "                #suvis.action()\n",
    "                envir.start(date_start = date_start, \n",
    "                            date_finish = date_finish)\n",
    "                agent.start(top_thres = top_thres, \n",
    "                            pow_st_dev = pow_st_dev, \n",
    "                            den_pow = den_pow, \n",
    "                            year_days = year_days,\n",
    "                            min_hist_days = min_hist_days,\n",
    "                            min_rent_days = min_rent_days) #, min_thres = min_thres\n",
    "                agent.action()\n",
    "                #print ('\\nИТОГО: ', \"{:.0f}\".format(agent.port_summ_value))\n",
    "\n",
    "                result_df = result_df.append({'date_start': date_start, 'top_thres': top_thres, 'pow_st_dev': pow_st_dev, 'den_pow': den_pow, 'port_summ_value': agent.port_summ_value}, ignore_index = True) #, 'min_thres': min_thres\n",
    "            \n",
    "# Сохранение истории поиска по сетке\n",
    "writer = pd.ExcelWriter('..\\\\5. Evaluation\\\\' + type_insrt + '\\\\result_grid_search.xlsx')\n",
    "metadata_df.to_excel(writer, 'metadata', header = False, index = False)\n",
    "result_df.to_excel(writer, 'data')\n",
    "writer.save()\n",
    "\n",
    "writer = pd.ExcelWriter('..\\\\5. Evaluation\\\\' + type_insrt + '\\\\result_grid_search ' + datetime.datetime.now().strftime(\"%Y-%m-%d %H.%M.%S\") + '.xlsx')\n",
    "metadata_df.to_excel(writer, 'metadata', header = False, index = False)\n",
    "result_df.to_excel(writer, 'data')\n",
    "writer.save()"
   ]
  },
  {
   "cell_type": "code",
   "execution_count": 7,
   "metadata": {
    "collapsed": true
   },
   "outputs": [],
   "source": [
    "# Сохранение истории поиска по сетке\n",
    "writer = pd.ExcelWriter('..\\\\5. Evaluation\\\\' + type_insrt + '\\\\result_grid_search.xlsx')\n",
    "metadata_df.to_excel(writer, 'metadata', header = False, index = False)\n",
    "result_df.to_excel(writer, 'data')\n",
    "writer.save()\n",
    "\n",
    "writer = pd.ExcelWriter('..\\\\5. Evaluation\\\\' + type_insrt + '\\\\result_grid_search ' + datetime.datetime.now().strftime(\"%Y-%m-%d %H.%M.%S\") + '.xlsx')\n",
    "metadata_df.to_excel(writer, 'metadata', header = False, index = False)\n",
    "result_df.to_excel(writer, 'data')\n",
    "writer.save()"
   ]
  },
  {
   "cell_type": "markdown",
   "metadata": {},
   "source": [
    "# 2.\tПредобработка данных"
   ]
  },
  {
   "cell_type": "markdown",
   "metadata": {},
   "source": [
    "# 3. Анализ данных"
   ]
  },
  {
   "cell_type": "markdown",
   "metadata": {},
   "source": [
    "# 5. Evaluation"
   ]
  },
  {
   "cell_type": "markdown",
   "metadata": {},
   "source": [
    "# 6. Deployment"
   ]
  }
 ],
 "metadata": {
  "anaconda-cloud": {},
  "kernelspec": {
   "display_name": "Python [default]",
   "language": "python",
   "name": "python3"
  },
  "language_info": {
   "codemirror_mode": {
    "name": "ipython",
    "version": 3
   },
   "file_extension": ".py",
   "mimetype": "text/x-python",
   "name": "python",
   "nbconvert_exporter": "python",
   "pygments_lexer": "ipython3",
   "version": "3.5.2"
  }
 },
 "nbformat": 4,
 "nbformat_minor": 1
}
