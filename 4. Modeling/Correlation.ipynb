{
 "cells": [
  {
   "cell_type": "code",
   "execution_count": 4,
   "metadata": {
    "collapsed": false
   },
   "outputs": [],
   "source": [
    "import numpy as np\n",
    "import pandas as pd\n",
    "import matplotlib.pyplot as plt\n",
    "import seaborn as sns\n",
    "from os import listdir\n",
    "from os.path import isfile, join\n",
    "\n",
    "%matplotlib inline"
   ]
  },
  {
   "cell_type": "code",
   "execution_count": 5,
   "metadata": {
    "collapsed": false
   },
   "outputs": [],
   "source": [
    "data_df = pd.DataFrame()\n",
    "onlyfiles = [f for f in listdir('C:\\Google_Drive\\Инвестирование\\ПИФ') if isfile(join('C:\\Google_Drive\\Инвестирование\\ПИФ', f))]\n",
    "for filename in onlyfiles:\n",
    "    if filename[:6] != 'ШАБЛОН':\n",
    "        init_df = pd.read_excel('C:\\Google_Drive\\Инвестирование\\ПИФ\\\\'+filename, sheetname=1)\n",
    "        init_df['Дата_2'] = pd.to_datetime(init_df['Дата_2'])\n",
    "        init_df[filename[:len(filename)-5]] = init_df['Пок']\n",
    "        if not('Дата_2' in data_df.columns):\n",
    "            data_df['Дата_2'] = init_df['Дата_2']\n",
    "            data_df[filename[:len(filename)-5]] = init_df[filename[:len(filename)-5]]\n",
    "        else:\n",
    "            data_df = pd.merge (data_df, init_df[['Дата_2', filename[:len(filename)-5]]], how='inner', on=['Дата_2'])\n",
    "del data_df['Дата_2']\n",
    "corr_df = data_df.corr('pearson')"
   ]
  },
  {
   "cell_type": "raw",
   "metadata": {},
   "source": [
    "writer = pd.ExcelWriter('Корреляция.xlsx')\n",
    "corr_df.corr('pearson').to_excel(writer, 'Корреляция')\n",
    "writer.save()"
   ]
  },
  {
   "cell_type": "code",
   "execution_count": 6,
   "metadata": {
    "collapsed": false
   },
   "outputs": [],
   "source": [
    "rate_df = pd.read_excel('Rate.xlsx')\n",
    "rate_df = rate_df.sort_values(by=['Итого2'], ascending=False).reset_index(drop = True)\n",
    "rate_df['Dif'] = None\n",
    "rate_df['Dif^1/64'] = None\n",
    "rate_df['Dif_ln'] = None\n",
    "rate_df['Итого3'] = None"
   ]
  },
  {
   "cell_type": "code",
   "execution_count": 7,
   "metadata": {
    "collapsed": false
   },
   "outputs": [],
   "source": [
    "for index in rate_df.index: #Переделать!!! заменить на простой итератор количества\n",
    "    #print (rate_df.loc[index]['Название'])\n",
    "    rate_df['Temp'] = None\n",
    "    rate_df['Temp2'] = None\n",
    "    rate_df['Temp3'] = None\n",
    "    for pif in rate_df[pd.isnull(rate_df['Итого3'])].index:\n",
    "        dif = 1\n",
    "        for pif2 in rate_df[pd.notnull(rate_df['Итого3'])].index:\n",
    "            dif = dif * (1-corr_df[rate_df['Название'][pif]][rate_df['Название'][pif2]])\n",
    "            #print ('pif: ', pif, rate_df['Название'][pif], 'pif2: ', pif2, rate_df['Название'][pif2], 'corr: ', corr_df[rate_df['Название'][pif]][rate_df['Название'][pif2]])\n",
    "        #print ('Итого2*dif:', rate_df['Итого2'][pif] * dif)\n",
    "        rate_df.ix[pif,'Temp'] = rate_df['Итого2'][pif] * (dif**(1/64))\n",
    "        rate_df.ix[pif,'Temp2'] = (dif)\n",
    "        rate_df.ix[pif,'Temp3'] = (dif**(1/64))\n",
    "    rate_df.ix[rate_df['Temp'].idxmax(),'Итого3'] = rate_df.ix[rate_df['Temp'].idxmax(),'Temp']\n",
    "    rate_df.ix[rate_df['Temp'].idxmax(),'Dif'] = rate_df.ix[rate_df['Temp'].idxmax(),'Temp2']\n",
    "    rate_df.ix[rate_df['Temp'].idxmax(),'Dif^1/64'] = rate_df.ix[rate_df['Temp'].idxmax(),'Temp3']\n",
    "#    if index == 2:\n",
    "#        break\n",
    "del rate_df['Temp']\n",
    "del rate_df['Temp2']\n",
    "del rate_df['Temp3']"
   ]
  },
  {
   "cell_type": "code",
   "execution_count": 8,
   "metadata": {
    "collapsed": false
   },
   "outputs": [],
   "source": [
    "writer = pd.ExcelWriter('Итого3_plus.xlsx')\n",
    "rate_df.to_excel(writer, 'Данные')\n",
    "writer.save()"
   ]
  },
  {
   "cell_type": "raw",
   "metadata": {},
   "source": [
    "sns.pairplot(corr_df[['УРАЛСИБ - Акции роста', 'Атон-менеджмент - ИНФРАСТРУКТУРА', 'Сбербанк – Электроэнергетика']], size = 3)"
   ]
  },
  {
   "cell_type": "raw",
   "metadata": {
    "collapsed": false
   },
   "source": [
    "init_df = pd.read_csv('123.csv', sep=';', parse_dates=[0], dayfirst=True, encoding='cp1251')\n",
    "init_df = init_df[['Пок. подг.', 'ln(отл.)']]"
   ]
  },
  {
   "cell_type": "raw",
   "metadata": {
    "collapsed": false
   },
   "source": [
    "sns.pairplot(init_df, size = 5) #, hue=\"rep_period_year\""
   ]
  }
 ],
 "metadata": {
  "anaconda-cloud": {},
  "kernelspec": {
   "display_name": "Python [conda root]",
   "language": "python",
   "name": "conda-root-py"
  },
  "language_info": {
   "codemirror_mode": {
    "name": "ipython",
    "version": 3
   },
   "file_extension": ".py",
   "mimetype": "text/x-python",
   "name": "python",
   "nbconvert_exporter": "python",
   "pygments_lexer": "ipython3",
   "version": "3.5.2"
  }
 },
 "nbformat": 4,
 "nbformat_minor": 1
}
